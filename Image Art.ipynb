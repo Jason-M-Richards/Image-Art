{
 "cells": [
  {
   "cell_type": "markdown",
   "metadata": {},
   "source": [
    "## Image Art\n",
    "\n",
    "'''This notebook will take a target image and a style reference image and\\\n",
    "blend the style reference image into the target. Texture, lines and shapes\\\n",
    "will be blended into the image. It is best to use a target image with a white background\\\n",
    "unless the style reference picture has bright whites. From *_Deep Learning with Python_* by Francois Chollet (2018)'''"
   ]
  },
  {
   "cell_type": "code",
   "execution_count": 1,
   "metadata": {},
   "outputs": [
    {
     "name": "stderr",
     "output_type": "stream",
     "text": [
      "Using TensorFlow backend.\n"
     ]
    }
   ],
   "source": [
    "## Import packages\n",
    "from keras.preprocessing.image import load_img, img_to_array\n",
    "target_image_path = 'tree_2.jpg'  #insert target picture path here\n",
    "style_reference_image_path = '1_Vincent.jpg'  #insert style reference pic path here\n",
    "width, height = load_img(target_image_path).size\n",
    "img_height = 400\n",
    "img_width = int(width*img_height/height)"
   ]
  },
  {
   "cell_type": "code",
   "execution_count": 2,
   "metadata": {},
   "outputs": [],
   "source": [
    "import numpy as np\n",
    "from keras.applications import vgg19 #trained image model being used"
   ]
  },
  {
   "cell_type": "code",
   "execution_count": 3,
   "metadata": {},
   "outputs": [],
   "source": [
    "def preprocess_image(image_path):\n",
    "    img = load_img(image_path, target_size=(img_height, img_width))\n",
    "    img = img_to_array(img)\n",
    "    img = np.expand_dims(img, axis=0)\n",
    "    img = vgg19.preprocess_input(img)\n",
    "    return img"
   ]
  },
  {
   "cell_type": "code",
   "execution_count": 4,
   "metadata": {},
   "outputs": [],
   "source": [
    "def deprocess_image(x):\n",
    "    x[:,:,0] += 103.939\n",
    "    x[:,:,1] += 116.779\n",
    "    x[:,:,2] += 123.68\n",
    "    x = x[:,:,::-1]\n",
    "    x = np.clip(x,0,255).astype('uint8')\n",
    "    return x"
   ]
  },
  {
   "cell_type": "code",
   "execution_count": 5,
   "metadata": {},
   "outputs": [
    {
     "name": "stdout",
     "output_type": "stream",
     "text": [
      "WARNING:tensorflow:From C:\\Users\\perso\\Anaconda3\\envs\\learn-env\\lib\\site-packages\\keras\\backend\\tensorflow_backend.py:517: The name tf.placeholder is deprecated. Please use tf.compat.v1.placeholder instead.\n",
      "\n",
      "WARNING:tensorflow:From C:\\Users\\perso\\Anaconda3\\envs\\learn-env\\lib\\site-packages\\keras\\backend\\tensorflow_backend.py:74: The name tf.get_default_graph is deprecated. Please use tf.compat.v1.get_default_graph instead.\n",
      "\n",
      "WARNING:tensorflow:From C:\\Users\\perso\\Anaconda3\\envs\\learn-env\\lib\\site-packages\\keras\\backend\\tensorflow_backend.py:4138: The name tf.random_uniform is deprecated. Please use tf.random.uniform instead.\n",
      "\n",
      "WARNING:tensorflow:From C:\\Users\\perso\\Anaconda3\\envs\\learn-env\\lib\\site-packages\\keras\\backend\\tensorflow_backend.py:3976: The name tf.nn.max_pool is deprecated. Please use tf.nn.max_pool2d instead.\n",
      "\n",
      "WARNING:tensorflow:From C:\\Users\\perso\\Anaconda3\\envs\\learn-env\\lib\\site-packages\\keras\\backend\\tensorflow_backend.py:174: The name tf.get_default_session is deprecated. Please use tf.compat.v1.get_default_session instead.\n",
      "\n",
      "WARNING:tensorflow:From C:\\Users\\perso\\Anaconda3\\envs\\learn-env\\lib\\site-packages\\keras\\backend\\tensorflow_backend.py:181: The name tf.ConfigProto is deprecated. Please use tf.compat.v1.ConfigProto instead.\n",
      "\n",
      "Model loaded.\n"
     ]
    }
   ],
   "source": [
    "from keras import backend as K\n",
    "\n",
    "target_image = K.constant(preprocess_image(target_image_path))\n",
    "style_reference_image = K.constant(preprocess_image(style_reference_image_path))\n",
    "combination_image = K.placeholder((1, img_height, img_width,3))\n",
    "input_tensor = K.concatenate([target_image,style_reference_image,combination_image], axis=0)\n",
    "model = vgg19.VGG19(input_tensor=input_tensor, weights='imagenet', include_top=False)\n",
    "print('Model loaded.')\n"
   ]
  },
  {
   "cell_type": "code",
   "execution_count": 6,
   "metadata": {},
   "outputs": [],
   "source": [
    "def content_loss(base, combination):\n",
    "    return K.sum(K.square(combination-base))"
   ]
  },
  {
   "cell_type": "code",
   "execution_count": 7,
   "metadata": {},
   "outputs": [],
   "source": [
    "\n",
    "def gram_matrix(x):\n",
    "    features = K.batch_flatten(K.permute_dimensions(x,(2,0,1)))\n",
    "    gram = K.dot(features, K.transpose(features))\n",
    "    return gram\n",
    "def style_loss(style, combination):\n",
    "    S = gram_matrix(style)\n",
    "    C = gram_matrix(combination)\n",
    "    channels=3\n",
    "    size = img_height * img_width\n",
    "    return K.sum(K.square(S - C)) / (4. * (channels **2) * (size **2))"
   ]
  },
  {
   "cell_type": "code",
   "execution_count": 8,
   "metadata": {},
   "outputs": [],
   "source": [
    "def total_variation_loss(x):\n",
    "    a = K.square(x[:,:img_height - 1, :img_width - 1, :] - x[:,1:, :img_width - 1, :])\n",
    "    b = K.square(x[:,:img_height - 1, :img_width - 1, :] - x[:,:img_height - 1, 1:, :])\n",
    "    return K.sum(K.pow(a+b, 1.25))"
   ]
  },
  {
   "cell_type": "code",
   "execution_count": 9,
   "metadata": {},
   "outputs": [],
   "source": [
    "outputs_dict = dict([(layer.name, layer.output) for layer in model.layers])\n",
    "content_layer = 'block5_conv2'\n",
    "style_layers = ['block1_conv1', 'block2_conv1','block3_conv1','block4_conv1','block5_conv1']\n",
    "total_variation_weight = 1e-4\n",
    "style_weight = 1.\n",
    "content_weight = 0.025"
   ]
  },
  {
   "cell_type": "code",
   "execution_count": 10,
   "metadata": {},
   "outputs": [
    {
     "name": "stdout",
     "output_type": "stream",
     "text": [
      "WARNING:tensorflow:Variable += will be deprecated. Use variable.assign_add if you want assignment to the variable value or 'x = x + y' if you want a new python Tensor object.\n"
     ]
    }
   ],
   "source": [
    "loss = K.variable(0.)\n",
    "layer_features = outputs_dict[content_layer]\n",
    "target_image_features = layer_features[0,:,:,:]\n",
    "combination_features = layer_features[2,:,:,:]\n",
    "loss += content_weight * content_loss(target_image_features, combination_features)"
   ]
  },
  {
   "cell_type": "code",
   "execution_count": 11,
   "metadata": {
    "scrolled": false
   },
   "outputs": [],
   "source": [
    "for layer_name in style_layers:\n",
    "    layer_features = outputs_dict[layer_name]\n",
    "    style_reference_features = layer_features[1,:,:,:]\n",
    "    combination_features = layer_features[2,:,:,:]\n",
    "    sl = style_loss(style_reference_features, combination_features)\n",
    "    loss += (style_weight / len(style_layers)) * sl\n",
    "loss += total_variation_weight * total_variation_loss(combination_image) "
   ]
  },
  {
   "cell_type": "code",
   "execution_count": 12,
   "metadata": {},
   "outputs": [
    {
     "name": "stdout",
     "output_type": "stream",
     "text": [
      "WARNING:tensorflow:From C:\\Users\\perso\\Anaconda3\\envs\\learn-env\\lib\\site-packages\\tensorflow\\python\\ops\\math_grad.py:1205: add_dispatch_support.<locals>.wrapper (from tensorflow.python.ops.array_ops) is deprecated and will be removed in a future version.\n",
      "Instructions for updating:\n",
      "Use tf.where in 2.0, which has the same broadcast rule as np.where\n"
     ]
    }
   ],
   "source": [
    "grads = K.gradients(loss, combination_image)[0]\n",
    "fetch_loss_and_grads = K.function([combination_image], [loss,grads])"
   ]
  },
  {
   "cell_type": "code",
   "execution_count": 13,
   "metadata": {},
   "outputs": [],
   "source": [
    "class Evaluator(object):\n",
    "    \n",
    "    def _init_(self):\n",
    "        self.loss_value = None\n",
    "        self.grads_values = None\n",
    "    def loss(self, x):\n",
    "        #assert self.loss_value is None\n",
    "        x = x.reshape((1, img_height,img_width,3))\n",
    "        outs = fetch_loss_and_grads([x])\n",
    "        loss_value = outs[0]\n",
    "        grad_values = outs[1].flatten().astype('float64')\n",
    "        self.loss_value = loss_value\n",
    "        self.grad_values = grad_values\n",
    "        return self.loss_value\n",
    "    def grads (self, x):\n",
    "        #assert self.loss_value is not None\n",
    "        grad_values = np.copy(self.grad_values)\n",
    "        self.loss_value = None\n",
    "        self.grad_values = None\n",
    "        return grad_values\n",
    "evaluator = Evaluator()"
   ]
  },
  {
   "cell_type": "code",
   "execution_count": 14,
   "metadata": {
    "scrolled": true
   },
   "outputs": [],
   "source": [
    "from scipy.optimize import fmin_l_bfgs_b\n",
    "import imageio\n",
    "import time"
   ]
  },
  {
   "cell_type": "markdown",
   "metadata": {},
   "source": [
    "The code below will iterate and save an image at each iteration. The reference picture will slowly be incorporated into the target at each iteration."
   ]
  },
  {
   "cell_type": "code",
   "execution_count": 15,
   "metadata": {},
   "outputs": [
    {
     "name": "stdout",
     "output_type": "stream",
     "text": [
      "Start of iteration 0\n",
      "Current loss value: 2017355100.0\n",
      "Image saved as my_result_at_iteration_0.png\n",
      "Iteration 0 completed in 27s\n",
      "Start of iteration 1\n",
      "Current loss value: 835494140.0\n",
      "Image saved as my_result_at_iteration_1.png\n",
      "Iteration 1 completed in 21s\n",
      "Start of iteration 2\n",
      "Current loss value: 536107600.0\n",
      "Image saved as my_result_at_iteration_2.png\n",
      "Iteration 2 completed in 21s\n",
      "Start of iteration 3\n",
      "Current loss value: 376176100.0\n",
      "Image saved as my_result_at_iteration_3.png\n",
      "Iteration 3 completed in 21s\n",
      "Start of iteration 4\n",
      "Current loss value: 279572380.0\n",
      "Image saved as my_result_at_iteration_4.png\n",
      "Iteration 4 completed in 21s\n",
      "Start of iteration 5\n",
      "Current loss value: 226158940.0\n",
      "Image saved as my_result_at_iteration_5.png\n",
      "Iteration 5 completed in 21s\n",
      "Start of iteration 6\n",
      "Current loss value: 189907710.0\n",
      "Image saved as my_result_at_iteration_6.png\n",
      "Iteration 6 completed in 21s\n",
      "Start of iteration 7\n",
      "Current loss value: 166325230.0\n",
      "Image saved as my_result_at_iteration_7.png\n",
      "Iteration 7 completed in 21s\n",
      "Start of iteration 8\n",
      "Current loss value: 149329700.0\n",
      "Image saved as my_result_at_iteration_8.png\n",
      "Iteration 8 completed in 21s\n",
      "Start of iteration 9\n",
      "Current loss value: 135296180.0\n",
      "Image saved as my_result_at_iteration_9.png\n",
      "Iteration 9 completed in 21s\n",
      "Start of iteration 10\n",
      "Current loss value: 124716960.0\n",
      "Image saved as my_result_at_iteration_10.png\n",
      "Iteration 10 completed in 21s\n",
      "Start of iteration 11\n",
      "Current loss value: 116576880.0\n",
      "Image saved as my_result_at_iteration_11.png\n",
      "Iteration 11 completed in 21s\n",
      "Start of iteration 12\n",
      "Current loss value: 109518824.0\n",
      "Image saved as my_result_at_iteration_12.png\n",
      "Iteration 12 completed in 21s\n",
      "Start of iteration 13\n",
      "Current loss value: 101932420.0\n",
      "Image saved as my_result_at_iteration_13.png\n",
      "Iteration 13 completed in 21s\n",
      "Start of iteration 14\n",
      "Current loss value: 96355096.0\n",
      "Image saved as my_result_at_iteration_14.png\n",
      "Iteration 14 completed in 21s\n",
      "Start of iteration 15\n",
      "Current loss value: 91902330.0\n",
      "Image saved as my_result_at_iteration_15.png\n",
      "Iteration 15 completed in 21s\n",
      "Start of iteration 16\n",
      "Current loss value: 88157336.0\n",
      "Image saved as my_result_at_iteration_16.png\n",
      "Iteration 16 completed in 21s\n",
      "Start of iteration 17\n",
      "Current loss value: 84751500.0\n",
      "Image saved as my_result_at_iteration_17.png\n",
      "Iteration 17 completed in 21s\n",
      "Start of iteration 18\n",
      "Current loss value: 81903130.0\n",
      "Image saved as my_result_at_iteration_18.png\n",
      "Iteration 18 completed in 22s\n",
      "Start of iteration 19\n",
      "Current loss value: 79010510.0\n",
      "Image saved as my_result_at_iteration_19.png\n",
      "Iteration 19 completed in 21s\n"
     ]
    }
   ],
   "source": [
    "result_prefix = 'my_result'\n",
    "iterations = 20\n",
    "x = preprocess_image(target_image_path)\n",
    "x = x.flatten()\n",
    "for i in range(iterations):\n",
    "    print('Start of iteration', i)\n",
    "    start_time = time.time()\n",
    "    x, min_val, info = fmin_l_bfgs_b(evaluator.loss, x, fprime=evaluator.grads, maxfun=20)\n",
    "    print('Current loss value:', min_val)\n",
    "    img = x.copy().reshape((img_height, img_width,3))\n",
    "    img = deprocess_image(img)\n",
    "    fname = result_prefix + '_at_iteration_%d.png' % i\n",
    "    imageio.imwrite(fname, img)\n",
    "    print('Image saved as', fname)\n",
    "    end_time = time.time()\n",
    "    print('Iteration %d completed in %ds' % (i, end_time-start_time))\n",
    "    "
   ]
  },
  {
   "cell_type": "code",
   "execution_count": null,
   "metadata": {},
   "outputs": [],
   "source": []
  },
  {
   "cell_type": "code",
   "execution_count": null,
   "metadata": {},
   "outputs": [],
   "source": []
  }
 ],
 "metadata": {
  "kernelspec": {
   "display_name": "learn-env",
   "language": "python",
   "name": "learn-env"
  },
  "language_info": {
   "codemirror_mode": {
    "name": "ipython",
    "version": 3
   },
   "file_extension": ".py",
   "mimetype": "text/x-python",
   "name": "python",
   "nbconvert_exporter": "python",
   "pygments_lexer": "ipython3",
   "version": "3.6.9"
  },
  "toc": {
   "base_numbering": 1,
   "nav_menu": {},
   "number_sections": true,
   "sideBar": true,
   "skip_h1_title": false,
   "title_cell": "Table of Contents",
   "title_sidebar": "Contents",
   "toc_cell": false,
   "toc_position": {},
   "toc_section_display": true,
   "toc_window_display": true
  }
 },
 "nbformat": 4,
 "nbformat_minor": 2
}
